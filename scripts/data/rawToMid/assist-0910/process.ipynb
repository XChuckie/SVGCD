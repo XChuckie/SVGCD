{
 "cells": [
  {
   "cell_type": "code",
   "execution_count": 1,
   "metadata": {
    "metadata": {}
   },
   "outputs": [],
   "source": [
    "import os\n",
    "import pandas as pd\n",
    "import numpy as np\n",
    "from itertools import chain\n",
    "from sklearn.model_selection import train_test_split, StratifiedKFold\n",
    "pd.set_option(\"mode.chained_assignment\", None) # ingore warning"
   ]
  },
  {
   "cell_type": "markdown",
   "metadata": {},
   "source": [
    "1. Data Loading and Processing"
   ]
  },
  {
   "cell_type": "code",
   "execution_count": 2,
   "metadata": {
    "metadata": {}
   },
   "outputs": [
    {
     "data": {
      "text/html": [
       "<div>\n",
       "<style scoped>\n",
       "    .dataframe tbody tr th:only-of-type {\n",
       "        vertical-align: middle;\n",
       "    }\n",
       "\n",
       "    .dataframe tbody tr th {\n",
       "        vertical-align: top;\n",
       "    }\n",
       "\n",
       "    .dataframe thead th {\n",
       "        text-align: right;\n",
       "    }\n",
       "</style>\n",
       "<table border=\"1\" class=\"dataframe\">\n",
       "  <thead>\n",
       "    <tr style=\"text-align: right;\">\n",
       "      <th></th>\n",
       "      <th>Unnamed: 0</th>\n",
       "      <th>order_id</th>\n",
       "      <th>assignment_id</th>\n",
       "      <th>user_id</th>\n",
       "      <th>assistment_id</th>\n",
       "      <th>problem_id</th>\n",
       "      <th>original</th>\n",
       "      <th>correct</th>\n",
       "      <th>attempt_count</th>\n",
       "      <th>ms_first_response</th>\n",
       "      <th>...</th>\n",
       "      <th>hint_count</th>\n",
       "      <th>hint_total</th>\n",
       "      <th>overlap_time</th>\n",
       "      <th>template_id</th>\n",
       "      <th>answer_id</th>\n",
       "      <th>answer_text</th>\n",
       "      <th>first_action</th>\n",
       "      <th>bottom_hint</th>\n",
       "      <th>opportunity</th>\n",
       "      <th>opportunity_original</th>\n",
       "    </tr>\n",
       "  </thead>\n",
       "  <tbody>\n",
       "    <tr>\n",
       "      <th>0</th>\n",
       "      <td>1</td>\n",
       "      <td>33022537</td>\n",
       "      <td>277618</td>\n",
       "      <td>64525</td>\n",
       "      <td>33139</td>\n",
       "      <td>51424</td>\n",
       "      <td>1</td>\n",
       "      <td>1</td>\n",
       "      <td>1</td>\n",
       "      <td>32454</td>\n",
       "      <td>...</td>\n",
       "      <td>0</td>\n",
       "      <td>3</td>\n",
       "      <td>32454</td>\n",
       "      <td>30799</td>\n",
       "      <td>NaN</td>\n",
       "      <td>26</td>\n",
       "      <td>0</td>\n",
       "      <td>NaN</td>\n",
       "      <td>1</td>\n",
       "      <td>1.0</td>\n",
       "    </tr>\n",
       "    <tr>\n",
       "      <th>1</th>\n",
       "      <td>2</td>\n",
       "      <td>33022709</td>\n",
       "      <td>277618</td>\n",
       "      <td>64525</td>\n",
       "      <td>33150</td>\n",
       "      <td>51435</td>\n",
       "      <td>1</td>\n",
       "      <td>1</td>\n",
       "      <td>1</td>\n",
       "      <td>4922</td>\n",
       "      <td>...</td>\n",
       "      <td>0</td>\n",
       "      <td>3</td>\n",
       "      <td>4922</td>\n",
       "      <td>30799</td>\n",
       "      <td>NaN</td>\n",
       "      <td>55</td>\n",
       "      <td>0</td>\n",
       "      <td>NaN</td>\n",
       "      <td>2</td>\n",
       "      <td>2.0</td>\n",
       "    </tr>\n",
       "    <tr>\n",
       "      <th>2</th>\n",
       "      <td>3</td>\n",
       "      <td>35450204</td>\n",
       "      <td>220674</td>\n",
       "      <td>70363</td>\n",
       "      <td>33159</td>\n",
       "      <td>51444</td>\n",
       "      <td>1</td>\n",
       "      <td>0</td>\n",
       "      <td>2</td>\n",
       "      <td>25390</td>\n",
       "      <td>...</td>\n",
       "      <td>0</td>\n",
       "      <td>3</td>\n",
       "      <td>42000</td>\n",
       "      <td>30799</td>\n",
       "      <td>NaN</td>\n",
       "      <td>88</td>\n",
       "      <td>0</td>\n",
       "      <td>NaN</td>\n",
       "      <td>1</td>\n",
       "      <td>1.0</td>\n",
       "    </tr>\n",
       "  </tbody>\n",
       "</table>\n",
       "<p>3 rows × 31 columns</p>\n",
       "</div>"
      ],
      "text/plain": [
       "   Unnamed: 0  order_id  assignment_id  user_id  assistment_id  problem_id  \\\n",
       "0           1  33022537         277618    64525          33139       51424   \n",
       "1           2  33022709         277618    64525          33150       51435   \n",
       "2           3  35450204         220674    70363          33159       51444   \n",
       "\n",
       "   original  correct  attempt_count  ms_first_response  ... hint_count  \\\n",
       "0         1        1              1              32454  ...          0   \n",
       "1         1        1              1               4922  ...          0   \n",
       "2         1        0              2              25390  ...          0   \n",
       "\n",
       "  hint_total  overlap_time  template_id  answer_id answer_text  first_action  \\\n",
       "0          3         32454        30799        NaN          26             0   \n",
       "1          3          4922        30799        NaN          55             0   \n",
       "2          3         42000        30799        NaN          88             0   \n",
       "\n",
       "  bottom_hint opportunity  opportunity_original  \n",
       "0         NaN           1                   1.0  \n",
       "1         NaN           2                   2.0  \n",
       "2         NaN           1                   1.0  \n",
       "\n",
       "[3 rows x 31 columns]"
      ]
     },
     "execution_count": 2,
     "metadata": {},
     "output_type": "execute_result"
    }
   ],
   "source": [
    "rawdatadir = '../../rawdata/'\n",
    "middatadir = '../../middata/'\n",
    "\n",
    "# Read data\n",
    "df = pd.read_csv(os.path.join(rawdatadir, 'assist-0910/skill_builder_data_corrected_collapsed.csv'), encoding='latin1', low_memory=False)\n",
    "df.head(3)"
   ]
  },
  {
   "cell_type": "code",
   "execution_count": 3,
   "metadata": {
    "metadata": {}
   },
   "outputs": [
    {
     "name": "stderr",
     "output_type": "stream",
     "text": [
      "C:\\Users\\chena\\AppData\\Local\\Temp\\ipykernel_21580\\2020573409.py:10: DeprecationWarning: DataFrameGroupBy.apply operated on the grouping columns. This behavior is deprecated, and in a future version of pandas the grouping columns will be excluded from the operation. Either pass `include_groups=False` to exclude the groupings or explicitly select the grouping columns after groupby to silence this warning.\n",
      "  data = data.groupby('user_id').apply(lambda x: x.drop_duplicates(subset='problem_id', keep='first')).reset_index(drop=True)\n"
     ]
    },
    {
     "data": {
      "text/html": [
       "<div>\n",
       "<style scoped>\n",
       "    .dataframe tbody tr th:only-of-type {\n",
       "        vertical-align: middle;\n",
       "    }\n",
       "\n",
       "    .dataframe tbody tr th {\n",
       "        vertical-align: top;\n",
       "    }\n",
       "\n",
       "    .dataframe thead th {\n",
       "        text-align: right;\n",
       "    }\n",
       "</style>\n",
       "<table border=\"1\" class=\"dataframe\">\n",
       "  <thead>\n",
       "    <tr style=\"text-align: right;\">\n",
       "      <th></th>\n",
       "      <th>stu_id</th>\n",
       "      <th>exer_id</th>\n",
       "      <th>cpt_seq</th>\n",
       "      <th>label</th>\n",
       "    </tr>\n",
       "  </thead>\n",
       "  <tbody>\n",
       "    <tr>\n",
       "      <th>0</th>\n",
       "      <td>0</td>\n",
       "      <td>0</td>\n",
       "      <td>[1, 24, 44]</td>\n",
       "      <td>0</td>\n",
       "    </tr>\n",
       "    <tr>\n",
       "      <th>1</th>\n",
       "      <td>0</td>\n",
       "      <td>1</td>\n",
       "      <td>[1, 24, 44]</td>\n",
       "      <td>1</td>\n",
       "    </tr>\n",
       "    <tr>\n",
       "      <th>2</th>\n",
       "      <td>0</td>\n",
       "      <td>2</td>\n",
       "      <td>[1, 24, 44]</td>\n",
       "      <td>0</td>\n",
       "    </tr>\n",
       "  </tbody>\n",
       "</table>\n",
       "</div>"
      ],
      "text/plain": [
       "   stu_id  exer_id      cpt_seq  label\n",
       "0       0        0  [1, 24, 44]      0\n",
       "1       0        1  [1, 24, 44]      1\n",
       "2       0        2  [1, 24, 44]      0"
      ]
     },
     "execution_count": 3,
     "metadata": {},
     "output_type": "execute_result"
    }
   ],
   "source": [
    "# Data cols select\n",
    "data = df.copy()\n",
    "use_cols = ['user_id', 'problem_id', 'skill_id', 'correct']\n",
    "data = data[use_cols]\n",
    "\n",
    "# Data Processing\n",
    "## step1: Remove records of exercises that do not correspond to knowledge concepts.\n",
    "data = data.dropna(subset=['skill_id'])\n",
    "## step2: Remove repetitive exercises and keep only the first time you answer an exercise.\n",
    "data = data.groupby('user_id').apply(lambda x: x.drop_duplicates(subset='problem_id', keep='first')).reset_index(drop=True)\n",
    "## step3: Rename operate\n",
    "origin_data = data.rename(columns={'user_id':'stu_id', \n",
    "                                    'problem_id':'exer_id', \n",
    "                                    'skill_id': 'cpt_seq',\n",
    "                                    'correct': 'label'})\n",
    "## step4: Convert knowledge into list\n",
    "origin_data['cpt_seq'] = origin_data['cpt_seq'].apply(lambda c: [int(x) for x in c.split('_')])\n",
    "## step5: Filter interactions with less than 15 for each student.\n",
    "origin_data = origin_data.groupby('stu_id').filter(lambda q: len(q) >= 15).copy()\n",
    "## step6: Recode operation\n",
    "def recodeEK(input):\n",
    "    stumapdic = {}\n",
    "    exermapdic = {}\n",
    "    knowmapdic = {}\n",
    "    # Student mapping\n",
    "    stus = input['stu_id'].unique().tolist()\n",
    "    for index, s in enumerate(stus): stumapdic[s] = index\n",
    "    input['stu_id'] = input['stu_id'].apply(lambda x: stumapdic[x])\n",
    "    # Exercise Mapping\n",
    "    exers = input['exer_id'].unique().tolist()\n",
    "    for index, e in enumerate(exers): exermapdic[e] = index\n",
    "    input['exer_id'] = input['exer_id'].apply(lambda x: exermapdic[x])\n",
    "    # Knowledge Mapping\n",
    "    kcInlogs = list(chain.from_iterable(input['cpt_seq']))\n",
    "    unique_kcInlogs = list(set(kcInlogs))\n",
    "    for index, k in enumerate(unique_kcInlogs): knowmapdic[k] = index\n",
    "    input[\"cpt_seq\"] = input[\"cpt_seq\"].apply(lambda x: [knowmapdic[i] for i in x])\n",
    "    return input\n",
    "origin_data = recodeEK(origin_data)\n",
    "\n",
    "origin_data.head(3)"
   ]
  },
  {
   "cell_type": "code",
   "execution_count": 4,
   "metadata": {
    "metadata": {}
   },
   "outputs": [
    {
     "name": "stdout",
     "output_type": "stream",
     "text": [
      "2493\n",
      "17676\n",
      "123\n",
      "267423\n",
      "107.26955475330927\n"
     ]
    }
   ],
   "source": [
    "# Statistics data information\n",
    "## Student number\n",
    "print(len(origin_data['stu_id'].unique()))\n",
    "## Exercise number\n",
    "print(len(origin_data['exer_id'].unique()))\n",
    "## Knowledge number\n",
    "from itertools import chain\n",
    "merged_list = list(chain.from_iterable(origin_data['cpt_seq']))\n",
    "unique_list = list(set(merged_list))\n",
    "print(len(unique_list))\n",
    "# Interactions\n",
    "print(len(origin_data))\n",
    "## Average logs per student\n",
    "print(len(origin_data)/len(origin_data['stu_id'].unique()))"
   ]
  },
  {
   "cell_type": "markdown",
   "metadata": {},
   "source": [
    "2. Data Split Operation"
   ]
  },
  {
   "cell_type": "code",
   "execution_count": 5,
   "metadata": {
    "metadata": {}
   },
   "outputs": [],
   "source": [
    "# Q Matrix Generation\n",
    "data = origin_data.copy()\n",
    "\n",
    "data = data.drop_duplicates(\"exer_id\")\n",
    "def transform_Qdata(input_dict):\n",
    "    output_dict = {}\n",
    "    output_dict[\"exer_id:token\"] = input_dict[\"exer_id\"]\n",
    "    output_dict[\"cpt_seq:token_seq\"] = [','.join(map(str, seq)) for seq in input_dict[\"cpt_seq\"]]\n",
    "    return output_dict\n",
    "dataQ_ = transform_Qdata(data[['exer_id', 'cpt_seq']])\n",
    "dataQ = pd.DataFrame(dataQ_)\n",
    "\n",
    "dataQ.to_csv(os.path.join(middatadir, 'assist-0910/assist-0910-Q.csv'), index=False, encoding='utf-8')"
   ]
  },
  {
   "cell_type": "code",
   "execution_count": 6,
   "metadata": {
    "metadata": {}
   },
   "outputs": [],
   "source": [
    "# Split data into train/test with ratio p.\n",
    "data = origin_data.copy()\n",
    "def split_train_test(originD, p):\n",
    "    train = []\n",
    "    test = []\n",
    "    for _, stu_df in originD.groupby('stu_id'):\n",
    "        stu_df = stu_df.sample(frac=1, random_state=2024)  # seed=2024 for reproducibility\n",
    "        train_stu, test_stu = None, None\n",
    "        train_test_threshold = int(len(stu_df) * p)\n",
    "        test_stu = stu_df.iloc[:train_test_threshold]\n",
    "        train_stu = stu_df.iloc[train_test_threshold:]\n",
    "        if train_stu is not None:\n",
    "            train.append(train_stu)\n",
    "        if test_stu is not None:\n",
    "            test.append(test_stu)\n",
    "\n",
    "    return pd.concat(train), pd.concat(test)\n",
    "assist0910train, assist0910test = split_train_test(data, p=0.2)  # train/test ratio p=0.2"
   ]
  },
  {
   "cell_type": "markdown",
   "metadata": {},
   "source": [
    "3. Split Data to Save"
   ]
  },
  {
   "cell_type": "code",
   "execution_count": 7,
   "metadata": {
    "metadata": {}
   },
   "outputs": [],
   "source": [
    "# assis0910train to save\n",
    "assis0910train_ = assist0910train.copy()\n",
    "assis0910train_ = assis0910train_[['stu_id', 'exer_id', 'label', 'cpt_seq']].rename(columns={'stu_id':'stu_id:token', \n",
    "                                                                                  'exer_id':'exer_id:token',\n",
    "                                                                                  'label':'label:float',})\n",
    "assis0910train_[\"cpt_seq\"] = [','.join(map(str, seq)) for seq in assis0910train_[\"cpt_seq\"]]\n",
    "assis0910train_.to_csv(os.path.join(middatadir, 'assist-0910/assist-0910-train.inter.csv'), index=False, encoding='utf-8')"
   ]
  },
  {
   "cell_type": "code",
   "execution_count": 8,
   "metadata": {
    "metadata": {}
   },
   "outputs": [],
   "source": [
    "# assis0910test to save\n",
    "assis0910test_ = assist0910test.copy()\n",
    "assis0910test_ = assis0910test_[['stu_id', 'exer_id', 'label', 'cpt_seq']].rename(columns={'stu_id':'stu_id:token', \n",
    "                                                                                'exer_id':'exer_id:token',\n",
    "                                                                                'label':'label:float',})\n",
    "assis0910test_[\"cpt_seq\"] = [','.join(map(str, seq)) for seq in assis0910test_[\"cpt_seq\"]]\n",
    "assis0910test_.to_csv(os.path.join(middatadir, 'assist-0910/assist-0910-test.inter.csv'), index=False, encoding='utf-8')"
   ]
  },
  {
   "cell_type": "code",
   "execution_count": 9,
   "metadata": {
    "metadata": {}
   },
   "outputs": [
    {
     "name": "stdout",
     "output_type": "stream",
     "text": [
      "214874\n",
      "52549\n"
     ]
    }
   ],
   "source": [
    "print(len(assist0910train))\n",
    "print(len(assist0910test))"
   ]
  },
  {
   "cell_type": "code",
   "execution_count": null,
   "metadata": {},
   "outputs": [],
   "source": []
  }
 ],
 "metadata": {
  "kernelspec": {
   "display_name": "Python 3",
   "language": "python",
   "name": "python3"
  },
  "language_info": {
   "codemirror_mode": {
    "name": "ipython",
    "version": 3
   },
   "file_extension": ".py",
   "mimetype": "text/x-python",
   "name": "python",
   "nbconvert_exporter": "python",
   "pygments_lexer": "ipython3",
   "version": "3.12.4"
  },
  "vscode": {
   "interpreter": {
    "hash": "716fc6e9d7bd3edcec119dc168be372f5cefc65262ad4fb0d655d9c015d682aa"
   }
  }
 },
 "nbformat": 4,
 "nbformat_minor": 4
}
